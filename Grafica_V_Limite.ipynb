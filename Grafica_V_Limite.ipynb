{
 "cells": [
  {
   "cell_type": "markdown",
   "metadata": {},
   "source": [
    "# GRÁFICA DE VELOCIDAD LIMITANTE #"
   ]
  },
  {
   "cell_type": "markdown",
   "metadata": {},
   "source": [
    "El estudio de los fenómenos físicos relacionados con el movimiento de objetos en un medio con resistencia del aire es fundamental en varias áreas de la ciencia y la ingeniería. Uno de los conceptos importantes en este contexto es la velocidad límite, que representa la velocidad máxima que puede alcanzar un objeto en movimiento bajo la influencia de la gravedad y la resistencia del aire.\n",
    "\n",
    "El código proporcionado implementa un programa que calcula y grafica la velocidad límite de un objeto en función de la masa del objeto, la aceleración debido a la gravedad y la constante de resistencia del aire. Además, el programa verifica si los valores ingresados por el usuario son numéricos y positivos, y maneja los errores correspondientes.\n",
    "\n",
    "A lo largo de esta explicación, analizaremos paso a paso cómo se lleva a cabo este proceso, desde la entrada de los parámetros por parte del usuario hasta la visualización de la gráfica resultante de la velocidad límite."
   ]
  },
  {
   "cell_type": "markdown",
   "metadata": {},
   "source": [
    "La ecuación de la velocidad limitante es la siguiente:\n",
    "\n",
    "\n",
    "$$v(t)= \\frac{m}{k}g $$\n",
    "\n",
    "\n",
    "Donde:\n",
    "- \\( v \\) es la velocidad,\n",
    "- \\( g \\) es la gravedad,\n",
    "- \\( k \\) es la constante de resistencia del aire, y\n",
    "- \\( m \\) es la masa del objeto."
   ]
  },
  {
   "cell_type": "markdown",
   "metadata": {},
   "source": [
    "# Explicación del código #"
   ]
  },
  {
   "cell_type": "markdown",
   "metadata": {},
   "source": [
    "## Importación de librerías ##"
   ]
  },
  {
   "cell_type": "code",
   "execution_count": 1,
   "metadata": {},
   "outputs": [],
   "source": [
    "import numpy as np\n",
    "import matplotlib.pyplot as plt"
   ]
  },
  {
   "cell_type": "markdown",
   "metadata": {},
   "source": [
    "numpy se importa con el alias np, proporciona soporte para arrays y matrices multidimensionales.\n",
    "\n",
    "matplotlib.pyplot se importa con el alias plt, es una colección de funciones que hacen que matplotlib funcione como MATLAB."
   ]
  },
  {
   "cell_type": "markdown",
   "metadata": {},
   "source": [
    "## Definición de la función ##"
   ]
  },
  {
   "cell_type": "code",
   "execution_count": null,
   "metadata": {},
   "outputs": [],
   "source": [
    "def V(m, g, k):\n",
    "    return m*g/k"
   ]
  },
  {
   "cell_type": "markdown",
   "metadata": {},
   "source": [
    "Esta función toma tres parámetros (m, g y k) y devuelve el valor de la velocidad límite según la fórmula. Esta es la velocidad a la que el objeto se estabiliza cuando la fuerza de arrastre del aire es igual a la fuerza gravitacional.\n",
    "\n"
   ]
  },
  {
   "cell_type": "markdown",
   "metadata": {},
   "source": [
    "## Función main() ##"
   ]
  },
  {
   "cell_type": "code",
   "execution_count": null,
   "metadata": {},
   "outputs": [],
   "source": [
    "def main():\n"
   ]
  },
  {
   "cell_type": "markdown",
   "metadata": {},
   "source": [
    "Esta función es donde se ejecuta el programa principal.\n",
    "\n"
   ]
  },
  {
   "cell_type": "markdown",
   "metadata": {},
   "source": [
    "## Solicitud de parámetros ##"
   ]
  },
  {
   "cell_type": "code",
   "execution_count": null,
   "metadata": {},
   "outputs": [],
   "source": [
    "    try:\n",
    "        # Solicitar al usuario que ingrese los valores\n",
    "        m = float(input(\"Ingresa la masa (kg): \"))\n",
    "        g = float(input(\"Ingresa el valor de la gravedad (m/s^2): \"))\n",
    "        k = float(input(\"Ingresa el valor de la constante de resistencia del aire  (Ns/m): \"))\n",
    "    except ValueError:\n",
    "        print(\"Error: Ingresa valores numéricos para la masa, la gravedad y la constante de resistencia del aire.\")\n",
    "        return"
   ]
  },
  {
   "cell_type": "markdown",
   "metadata": {},
   "source": [
    "Estos bloques de código solicitan al usuario que ingrese los valores de la masa, la gravedad y la constante de resistencia del aire. Aparte que esta parte del código maneja excepciones cuando el usuario ingresa valores no numéricos para la masa, la gravedad o la constante de resistencia del aire.1"
   ]
  },
  {
   "cell_type": "markdown",
   "metadata": {},
   "source": [
    "## Verificación de valores positivos ##"
   ]
  },
  {
   "cell_type": "code",
   "execution_count": null,
   "metadata": {},
   "outputs": [],
   "source": [
    "if m <= 0 or k <= 0:\n",
    "        print(\"Error: La masa y la constante de resistencia deben ser valores positivos.\")\n",
    "        return"
   ]
  },
  {
   "cell_type": "markdown",
   "metadata": {},
   "source": [
    "Esta parte del código verifica si la masa m y la constante de resistencia del aire k son valores positivos. Si no lo son, se muestra un mensaje de error y se termina la ejecución del programa."
   ]
  },
  {
   "cell_type": "markdown",
   "metadata": {},
   "source": [
    "## Cálculo del valor constante de velocidad límite ##"
   ]
  },
  {
   "cell_type": "code",
   "execution_count": null,
   "metadata": {},
   "outputs": [],
   "source": [
    "# Calcular el valor constante de V(t)\n",
    "    V_constante = V(m, g, k)"
   ]
  },
  {
   "cell_type": "markdown",
   "metadata": {},
   "source": [
    "Se calcula el valor de la velocidad límite utilizando la función V() con los valores de masa, gravedad y constante de resistencia del aire ingresados por el usuario."
   ]
  },
  {
   "cell_type": "markdown",
   "metadata": {},
   "source": [
    "## Gráfica de la velocidad límite ##"
   ]
  },
  {
   "cell_type": "code",
   "execution_count": null,
   "metadata": {},
   "outputs": [],
   "source": [
    "# Graficar V(t)\n",
    "    plt.axhline(y=V_constante, color='r', linestyle='-', label='V(t) = mg/k')\n",
    "    plt.title('Gráfico de Velocidad limitante')\n",
    "    plt.xlabel('Tiempo (s)')\n",
    "    plt.ylabel('V(t)')\n",
    "    plt.legend()\n",
    "    plt.grid(True)\n",
    "    plt.show()"
   ]
  },
  {
   "cell_type": "markdown",
   "metadata": {},
   "source": [
    "Se grafica la velocidad límite en función del tiempo, donde la velocidad límite es constante y se representa como una línea horizontal en el valor de V_constante. Se agrega un título, etiquetas a los ejes, una leyenda y una cuadrícula a la gráfica antes de mostrarla."
   ]
  },
  {
   "cell_type": "markdown",
   "metadata": {},
   "source": [
    "## Ejecutar main ##"
   ]
  },
  {
   "cell_type": "code",
   "execution_count": null,
   "metadata": {},
   "outputs": [],
   "source": [
    "if __name__ == \"__main__\":\n",
    "    main()"
   ]
  },
  {
   "cell_type": "markdown",
   "metadata": {},
   "source": [
    "El bloque if __name__ == \"__main__\": es una estructura común en los scripts de Python. Sirve para determinar si el script se está ejecutando como un programa principal o si se está importando como un módulo en otro script."
   ]
  },
  {
   "cell_type": "markdown",
   "metadata": {},
   "source": [
    "# Código completo #"
   ]
  },
  {
   "cell_type": "code",
   "execution_count": 3,
   "metadata": {},
   "outputs": [
    {
     "data": {
      "image/png": "[encoded data removed]",
      "text/plain": [
       "<Figure size 640x480 with 1 Axes>"
      ]
     },
     "metadata": {},
     "output_type": "display_data"
    }
   ],
   "source": [
    "import numpy as np\n",
    "import matplotlib.pyplot as plt\n",
    "\n",
    "def V(m, g, k):\n",
    "    return m*g/k\n",
    "\n",
    "def main():\n",
    "    try:\n",
    "        # Solicitar al usuario que ingrese los valores\n",
    "        m = float(input(\"Ingresa la masa (kg): \"))\n",
    "        g = float(input(\"Ingresa el valor de la gravedad (m/s^2): \"))\n",
    "        k = float(input(\"Ingresa el valor de la constante de resistencia del aire  (Ns/m): \"))\n",
    "    except ValueError:\n",
    "        print(\"Error: Ingresa valores numéricos para la masa, la gravedad y la constante de resistencia del aire.\")\n",
    "        return\n",
    "    \n",
    "    if m <= 0 or k <= 0:\n",
    "        print(\"Error: La masa y la constante de resistencia deben ser valores positivos.\")\n",
    "        return\n",
    "\n",
    "    # Calcular el valor constante de V(t)\n",
    "    V_constante = V(m, g, k)\n",
    "    \n",
    "    # Graficar V(t)\n",
    "    plt.axhline(y=V_constante, color='r', linestyle='-', label='V(t) = mg/k')\n",
    "    plt.title('Gráfico de Velocidad Limitante')\n",
    "    plt.xlabel('Tiempo (s)')\n",
    "    plt.ylabel('V(t)')\n",
    "    plt.legend()\n",
    "    plt.grid(True)\n",
    "    plt.show()\n",
    "\n",
    "if __name__ == \"__main__\":\n",
    "    main()\n"
   ]
  }
 ],
 "metadata": {
  "kernelspec": {
   "display_name": "Python 3",
   "language": "python",
   "name": "python3"
  },
  "language_info": {
   "codemirror_mode": {
    "name": "ipython",
    "version": 3
   },
   "file_extension": ".py",
   "mimetype": "text/x-python",
   "name": "python",
   "nbconvert_exporter": "python",
   "pygments_lexer": "ipython3",
   "version": "3.12.2"
  }
 },
 "nbformat": 4,
 "nbformat_minor": 2
}
