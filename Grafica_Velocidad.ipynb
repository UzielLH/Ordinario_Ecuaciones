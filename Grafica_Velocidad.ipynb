{
 "cells": [
  {
   "cell_type": "markdown",
   "metadata": {},
   "source": [
    "# GRÁFICA DE VELOCIDAD RESPECTO A LA RESISTENCIA DEL AIRE #"
   ]
  },
  {
   "cell_type": "markdown",
   "metadata": {},
   "source": [
    "\n",
    "\n",
    "En el estudio de los fenómenos físicos relacionados con el movimiento de objetos en un medio con resistencia del aire, es fundamental comprender cómo la velocidad de un objeto cambia con el tiempo bajo la influencia de la gravedad y la resistencia del aire. Esta relación se puede visualizar mediante una gráfica que muestra la velocidad del objeto en función del tiempo.\n",
    "\n",
    "El código proporcionado implementa un programa que calcula y grafica la velocidad de un objeto en movimiento vertical, teniendo en cuenta la resistencia del aire. Además, identifica el tiempo en el cual la velocidad alcanza el 90% del valor máximo y lo resalta en la gráfica.\n",
    "\n",
    "A lo largo de esta explicación, analizaremos paso a paso cómo se lleva a cabo este proceso, desde la entrada de los parámetros por parte del usuario hasta la visualización de la gráfica resultante."
   ]
  },
  {
   "cell_type": "markdown",
   "metadata": {},
   "source": [
    "La ecuación de la velocidad es la siguiente:\n",
    "\n",
    "\n",
    "$$v(t)= \\frac{m}{k}g + (vo - \\frac{m}{k}g) e^{-\\frac{kt}{m}}\n",
    "$$\n",
    "\n",
    "\n",
    "Donde:\n",
    "- \\( v \\) es la velocidad,\n",
    "- \\( vo \\) es la velocidad inicial,\n",
    "- \\( t \\) es el tiempo,\n",
    "- \\( g \\) es la gravedad,\n",
    "- \\( k \\) es la constante de resistencia del aire, y\n",
    "- \\( m \\) es la masa del objeto."
   ]
  },
  {
   "cell_type": "markdown",
   "metadata": {},
   "source": [
    "Para poder calcular el tiempo para llegar al 90% de velocidad antes de la velocidad limitante se hace algunos despejes y quedaría de esta forma la ecuación:\n",
    "$$t=-\\frac{{m \\cdot \\ln \\left( \\frac{{-0.1 \\cdot m \\cdot g}}{{k \\cdot V_o - g \\cdot m}} \\right)}}{k}\n",
    "\n",
    "$$\n",
    "\n",
    "\n",
    "Donde:\n",
    "- \\( v \\) es la velocidad,\n",
    "- \\( vo \\) es la velocidad inicial,\n",
    "- \\( t \\) es el tiempo,\n",
    "- \\( g \\) es la gravedad,\n",
    "- \\( k \\) es la constante de resistencia del aire, y\n",
    "- \\( m \\) es la masa del objeto."
   ]
  },
  {
   "cell_type": "markdown",
   "metadata": {},
   "source": [
    "# Explicación del código #"
   ]
  },
  {
   "cell_type": "markdown",
   "metadata": {},
   "source": [
    "## Importación de librerías ##"
   ]
  },
  {
   "cell_type": "code",
   "execution_count": 11,
   "metadata": {},
   "outputs": [],
   "source": [
    "import numpy as np\n",
    "import matplotlib.pyplot as plt"
   ]
  },
  {
   "cell_type": "markdown",
   "metadata": {},
   "source": [
    "numpy se importa con el alias np, proporciona soporte para arrays y matrices multidimensionales.\n",
    "\n",
    "matplotlib.pyplot se importa con el alias plt, es una colección de funciones que hacen que matplotlib funcione como MATLAB."
   ]
  },
  {
   "cell_type": "markdown",
   "metadata": {},
   "source": [
    "## Definición de las funciones ##"
   ]
  },
  {
   "cell_type": "code",
   "execution_count": 12,
   "metadata": {},
   "outputs": [],
   "source": [
    "def v(t, m, g, k, Vo):\n",
    "    return (m*g/k) + (Vo - (m*g/k)) * np.exp(-k*t/m)"
   ]
  },
  {
   "cell_type": "markdown",
   "metadata": {},
   "source": [
    "Esta función calcula la velocidad en función del tiempo t utilizando los parámetros de entrada: la masa m, la aceleración debido a la gravedad g, la constante de resistencia del aire k y la velocidad inicial Vo. Utiliza la fórmula de la velocidad en movimiento vertical con resistencia del aire."
   ]
  },
  {
   "cell_type": "code",
   "execution_count": null,
   "metadata": {},
   "outputs": [],
   "source": [
    "def calcular_tiempo_90_porciento(m, g, k, Vo):\n",
    "    return -(m * np.log((-0.1 * m * g) / (k * Vo - g * m))) / k"
   ]
  },
  {
   "cell_type": "markdown",
   "metadata": {},
   "source": [
    "Define una función llamada calcular_tiempo_90_porciento que calcula el tiempo en el cual la velocidad del objeto alcanza el 90% de su valor máximo, utilizando los parámetros dados."
   ]
  },
  {
   "cell_type": "markdown",
   "metadata": {},
   "source": [
    "## Función main() ##"
   ]
  },
  {
   "cell_type": "code",
   "execution_count": 13,
   "metadata": {},
   "outputs": [
    {
     "ename": "SyntaxError",
     "evalue": "incomplete input (3981202124.py, line 1)",
     "output_type": "error",
     "traceback": [
      "\u001b[1;36m  Cell \u001b[1;32mIn[13], line 1\u001b[1;36m\u001b[0m\n\u001b[1;33m    def main():\u001b[0m\n\u001b[1;37m               ^\u001b[0m\n\u001b[1;31mSyntaxError\u001b[0m\u001b[1;31m:\u001b[0m incomplete input\n"
     ]
    }
   ],
   "source": [
    "def main():\n"
   ]
  },
  {
   "cell_type": "markdown",
   "metadata": {},
   "source": [
    "Esta función es donde se ejecuta el programa principal.\n",
    "\n"
   ]
  },
  {
   "cell_type": "markdown",
   "metadata": {},
   "source": [
    "## Solicitud de parámetros ##"
   ]
  },
  {
   "cell_type": "code",
   "execution_count": null,
   "metadata": {},
   "outputs": [],
   "source": [
    "try:\n",
    "    # Solicitar al usuario que ingrese los valores\n",
    "    m = float(input(\"Ingresa la masa (kg): \"))\n",
    "    g = float(input(\"Ingresa el valor de la gravedad (m/s^2): \"))\n",
    "    k = float(input(\"Ingresa el valor de la constante de resistencia del aire (Ns/m): \"))\n",
    "    Vo = float(input(\"Ingresa la velocidad inicial (m/s): \"))\n",
    "except ValueError:\n",
    "    print(\"Error: Ingresa valores numéricos para la masa, la gravedad, la constante de resistencia y la velocidad inicial.\")\n",
    "    return"
   ]
  },
  {
   "cell_type": "markdown",
   "metadata": {},
   "source": [
    "Estos bloques de código solicitan al usuario que ingrese los valores de la masa, la gravedad, la constante de resistencia del aire y la velocidad inicial. Aparte que esta parte del código maneja excepciones cuando el usuario ingresa valores no numéricos para la masa, la gravedad, la constante de resistencia o la velocidad inicial."
   ]
  },
  {
   "cell_type": "markdown",
   "metadata": {},
   "source": [
    "## Verificación de valores positivos ##"
   ]
  },
  {
   "cell_type": "code",
   "execution_count": null,
   "metadata": {},
   "outputs": [],
   "source": [
    "if m <= 0 or k <= 0:\n",
    "        print(\"Error: La masa y la constante de resistencia deben ser valores positivos.\")\n",
    "        return"
   ]
  },
  {
   "cell_type": "markdown",
   "metadata": {},
   "source": [
    "Esta parte del código verifica si la masa m y la constante de resistencia del aire k son valores positivos. Si no lo son, se muestra un mensaje de error y se termina la ejecución del programa."
   ]
  },
  {
   "cell_type": "markdown",
   "metadata": {},
   "source": [
    "## Creación de array de valores de tiempo ##"
   ]
  },
  {
   "cell_type": "code",
   "execution_count": null,
   "metadata": {},
   "outputs": [],
   "source": [
    "valores_tiempo = np.linspace(0, 30, 500)\n"
   ]
  },
  {
   "cell_type": "markdown",
   "metadata": {},
   "source": [
    "Se crea un array de 500 valores de tiempo entre 0 y 30 segundos.\n",
    "\n"
   ]
  },
  {
   "cell_type": "markdown",
   "metadata": {},
   "source": [
    "## Cálculo de los valores de velocidad ##"
   ]
  },
  {
   "cell_type": "code",
   "execution_count": null,
   "metadata": {},
   "outputs": [],
   "source": [
    "valores_v = v(valores_tiempo, m, g, k, Vo)\n"
   ]
  },
  {
   "cell_type": "markdown",
   "metadata": {},
   "source": [
    "Se calculan los valores de velocidad utilizando la función v() para cada valor de tiempo en el array valores_tiempo."
   ]
  },
  {
   "cell_type": "markdown",
   "metadata": {},
   "source": [
    "## Gráfica de la velocidad en función del tiempo ##"
   ]
  },
  {
   "cell_type": "code",
   "execution_count": null,
   "metadata": {},
   "outputs": [],
   "source": [
    "plt.plot(valores_tiempo, valores_v)\n",
    "plt.title('Gráfico de v(t)')\n",
    "plt.xlabel('Tiempo (s)')\n",
    "plt.ylabel('v(t)')\n",
    "plt.grid(True)"
   ]
  },
  {
   "cell_type": "markdown",
   "metadata": {},
   "source": [
    "Se grafica la velocidad en función del tiempo utilizando valores_tiempo en el eje x y valores_v en el eje y."
   ]
  },
  {
   "cell_type": "markdown",
   "metadata": {},
   "source": [
    "## Búsqueda del tiempo cuando la velocidad alcanza el 90% del valor máximo ##"
   ]
  },
  {
   "cell_type": "code",
   "execution_count": null,
   "metadata": {},
   "outputs": [],
   "source": [
    " # Encontrar el tiempo cuando la velocidad alcanza el 90% del valor máximo\n",
    "    t_90_porciento = calcular_tiempo_90_porciento(m, g, k, Vo)"
   ]
  },
  {
   "cell_type": "markdown",
   "metadata": {},
   "source": [
    "Se ingresan los parámetros en la función para calcular el tiempo."
   ]
  },
  {
   "cell_type": "markdown",
   "metadata": {},
   "source": [
    "## Se calcula la velocidad en el tiempo encontrado ##"
   ]
  },
  {
   "cell_type": "code",
   "execution_count": null,
   "metadata": {},
   "outputs": [],
   "source": [
    "# Calcular el valor de v(t) en t_90_porciento\n",
    "    v_90_porciento = v(t_90_porciento, m, g, k, Vo)"
   ]
  },
  {
   "cell_type": "markdown",
   "metadata": {},
   "source": [
    "Donde se sustituyen los parámetros que el usuario ingrese aparte del tiempo encontrado."
   ]
  },
  {
   "cell_type": "markdown",
   "metadata": {},
   "source": [
    "## Agregar líneas y punto en la gráfica ##"
   ]
  },
  {
   "cell_type": "code",
   "execution_count": null,
   "metadata": {},
   "outputs": [],
   "source": [
    "    # Agregar una línea vertical en el tiempo\n",
    "    plt.axvline(x=t_90_porciento, color='r', linestyle='--', label=f'Tiempo al 90% de v_max: {t_90_porciento:.2f} s')\n",
    "    \n",
    "    # Agregar una línea horizontal en velocidad\n",
    "    plt.axhline(y=v_90_porciento, color='g', linestyle='--', label=f'90% de v_max: {v_90_porciento:.2f} m/s')\n",
    "    \n",
    "    # Agregar un punto en el gráfico\n",
    "    plt.plot(t_90_porciento, v_90_porciento, 'bo', label=f'Punto en 90% de v_max')"
   ]
  },
  {
   "cell_type": "markdown",
   "metadata": {},
   "source": [
    "Se agregan una línea vertical en el tiempo cuando la velocidad alcanza el 90% del valor máximo, una línea horizontal en el 90% del valor máximo y un punto en la gráfica en el punto correspondiente."
   ]
  },
  {
   "cell_type": "markdown",
   "metadata": {},
   "source": [
    "## Mostrar la leyenda y la gráfica #"
   ]
  },
  {
   "cell_type": "code",
   "execution_count": null,
   "metadata": {},
   "outputs": [],
   "source": [
    "plt.legend()\n",
    "plt.show()"
   ]
  },
  {
   "cell_type": "markdown",
   "metadata": {},
   "source": [
    "Se muestra la leyenda de la gráfica y se muestra la gráfica en sí misma.\n",
    "\n"
   ]
  },
  {
   "cell_type": "markdown",
   "metadata": {},
   "source": [
    "## Ejecutar main ##"
   ]
  },
  {
   "cell_type": "code",
   "execution_count": null,
   "metadata": {},
   "outputs": [],
   "source": [
    "if __name__ == \"__main__\":\n",
    "    main()"
   ]
  },
  {
   "cell_type": "markdown",
   "metadata": {},
   "source": [
    "El bloque if __name__ == \"__main__\": es una estructura común en los scripts de Python. Sirve para determinar si el script se está ejecutando como un programa principal o si se está importando como un módulo en otro script."
   ]
  },
  {
   "cell_type": "markdown",
   "metadata": {},
   "source": [
    "# Código completo #"
   ]
  },
  {
   "cell_type": "code",
   "execution_count": 16,
   "metadata": {},
   "outputs": [
    {
     "data": {
      "image/png": "[encoded data removed]",
      "text/plain": [
       "<Figure size 640x480 with 1 Axes>"
      ]
     },
     "metadata": {},
     "output_type": "display_data"
    }
   ],
   "source": [
    "import numpy as np\n",
    "import matplotlib.pyplot as plt\n",
    "\n",
    "def v(t, m, g, k, Vo):\n",
    "    return (m*g/k) + (Vo - (m*g/k)) * np.exp(-k*t/m)\n",
    "\n",
    "def calcular_tiempo_90_porciento(m, g, k, Vo):\n",
    "    return -(m * np.log((-0.1 * m * g) / (k * Vo - g * m))) / k\n",
    "\n",
    "def main():\n",
    "    try:\n",
    "        # Solicitar al usuario que ingrese los valores\n",
    "        m = float(input(\"Ingresa la masa (kg): \"))\n",
    "        g = float(input(\"Ingresa el valor de la gravedad (m/s^2): \"))\n",
    "        k = float(input(\"Ingresa el valor de la constante de resistencia del aire (Ns/m): \"))\n",
    "        Vo = float(input(\"Ingresa la velocidad inicial (m/s): \"))\n",
    "    except ValueError:\n",
    "        print(\"Error: Ingresa valores numéricos para la masa, la gravedad, la constante de resistencia y la velocidad inicial.\")\n",
    "        return\n",
    "    \n",
    "    if m <= 0 or k <= 0:\n",
    "        print(\"Error: La masa y la constante de resistencia deben ser valores positivos.\")\n",
    "        return\n",
    "\n",
    "    # Crear un array de valores de tiempo\n",
    "    valores_tiempo = np.linspace(0, 50, 200)  # Se graficará desde t=0 hasta t=10\n",
    "    \n",
    "    # Calcular los valores de v(t) para cada valor de tiempo\n",
    "    valores_v = v(valores_tiempo, m, g, k, Vo)\n",
    "    \n",
    "    # Graficar v(t)\n",
    "    plt.plot(valores_tiempo, valores_v)\n",
    "    plt.title('Gráfico de v(t)')\n",
    "    plt.xlabel('Tiempo (s)')\n",
    "    plt.ylabel('v(t)')\n",
    "    plt.grid(True)\n",
    "    \n",
    "    # Encontrar el tiempo cuando la velocidad alcanza el 90% del valor máximo\n",
    "    t_90_porciento = calcular_tiempo_90_porciento(m, g, k, Vo)\n",
    "    \n",
    "    # Calcular el valor de v(t) en t_90_porciento\n",
    "    v_90_porciento = v(t_90_porciento, m, g, k, Vo)\n",
    "    \n",
    "    # Agregar una línea vertical en el tiempo\n",
    "    plt.axvline(x=t_90_porciento, color='r', linestyle='--', label=f'Tiempo al 90% de v_max: {t_90_porciento:.2f} s')\n",
    "    \n",
    "    # Agregar una línea horizontal en velocidad\n",
    "    plt.axhline(y=v_90_porciento, color='g', linestyle='--', label=f'90% de v_max: {v_90_porciento:.2f} m/s')\n",
    "    \n",
    "    # Agregar un punto en el gráfico\n",
    "    plt.plot(t_90_porciento, v_90_porciento, 'bo', label=f'Punto en 90% de v_max')\n",
    "    \n",
    "    plt.legend()\n",
    "    plt.show()\n",
    "\n",
    "if __name__ == \"__main__\":\n",
    "    main()\n"
   ]
  }
 ],
 "metadata": {
  "kernelspec": {
   "display_name": "Python 3",
   "language": "python",
   "name": "python3"
  },
  "language_info": {
   "codemirror_mode": {
    "name": "ipython",
    "version": 3
   },
   "file_extension": ".py",
   "mimetype": "text/x-python",
   "name": "python",
   "nbconvert_exporter": "python",
   "pygments_lexer": "ipython3",
   "version": "3.12.2"
  }
 },
 "nbformat": 4,
 "nbformat_minor": 2
}
