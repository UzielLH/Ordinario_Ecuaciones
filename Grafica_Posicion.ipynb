{
 "cells": [
  {
   "cell_type": "markdown",
   "metadata": {},
   "source": [
    "## GRÁFICO DE POSICIÓN RESPECTO A LA RESISTENCIA DEL AIRE ##"
   ]
  },
  {
   "cell_type": "markdown",
   "metadata": {},
   "source": [
    "El código que vamos a analizar se enfoca en estudiar el movimiento de un objeto bajo la influencia de la resistencia del aire. En particular, se centra en graficar la posición del objeto en función del tiempo y determinar el momento en el cual la velocidad del objeto alcanza el 90% de su valor máximo. Esto es relevante en contextos como la física y la ingeniería, donde comprender cómo diferentes variables, como la masa del objeto, la gravedad, la constante de resistencia del aire y la velocidad inicial, afectan su movimiento es fundamental.\n",
    "\n",
    "La función principal del código consiste en solicitar al usuario que ingrese los valores de masa, gravedad, constante de resistencia del aire y velocidad inicial del objeto. Luego, utilizando estos valores, calcula la posición del objeto en intervalos de tiempo específicos y grafica esta relación. Además, identifica el tiempo en el cual la velocidad del objeto alcanza el 90% de su valor máximo y marca este punto en la gráfica para una mejor comprensión visual del comportamiento del sistema.\n",
    "\n",
    "A través de este análisis, exploraremos cómo diferentes parámetros influyen en el movimiento de un objeto bajo la resistencia del aire y cómo podemos visualizar esta relación mediante gráficos para un mejor entendimiento del fenómeno físico."
   ]
  },
  {
   "cell_type": "markdown",
   "metadata": {},
   "source": [
    "La ecuación de la velocidad es la siguiente:\n",
    "\n",
    "\n",
    "$$s(t) = \\frac{m}{k} gt - \\frac{m}{k} e^{-\\frac{kt}{m}} (V_o - \\frac{mg}{k}) + \\frac{m}{k} (V_o - \\frac{mg}{k})\n",
    "\n",
    "$$\n",
    "\n",
    "\n",
    "Donde:\n",
    "- \\( v \\) es la velocidad,\n",
    "- \\( vo \\) es la velocidad inicial,\n",
    "- \\( t \\) es el tiempo,\n",
    "- \\( g \\) es la gravedad,\n",
    "- \\( k \\) es la constante de resistencia del aire, y\n",
    "- \\( m \\) es la masa del objeto."
   ]
  },
  {
   "cell_type": "markdown",
   "metadata": {},
   "source": [
    "Para poder calcular el tiempo para llegar al 90% de velocidad antes de la velocidad limitante se hace algunos despejes y quedaría de esta forma la ecuación:\n",
    "$$t=-\\frac{{m \\cdot \\ln \\left( \\frac{{-0.1 \\cdot m \\cdot g}}{{k \\cdot V_o - g \\cdot m}} \\right)}}{k}\n",
    "\n",
    "$$\n",
    "\n",
    "\n",
    "Donde:\n",
    "- \\( v \\) es la velocidad,\n",
    "- \\( vo \\) es la velocidad inicial,\n",
    "- \\( t \\) es el tiempo,\n",
    "- \\( g \\) es la gravedad,\n",
    "- \\( k \\) es la constante de resistencia del aire, y\n",
    "- \\( m \\) es la masa del objeto."
   ]
  },
  {
   "cell_type": "markdown",
   "metadata": {},
   "source": [
    "# Explicación del código #"
   ]
  },
  {
   "cell_type": "markdown",
   "metadata": {},
   "source": [
    "## Importación de librerías ##"
   ]
  },
  {
   "cell_type": "code",
   "execution_count": 1,
   "metadata": {},
   "outputs": [],
   "source": [
    "import numpy as np\n",
    "import matplotlib.pyplot as plt"
   ]
  },
  {
   "cell_type": "markdown",
   "metadata": {},
   "source": [
    "numpy se importa con el alias np, proporciona soporte para arrays y matrices multidimensionales.\n",
    "\n",
    "matplotlib.pyplot se importa con el alias plt, es una colección de funciones que hacen que matplotlib funcione como MATLAB."
   ]
  },
  {
   "cell_type": "markdown",
   "metadata": {},
   "source": [
    "## Definición de las funciones ##"
   ]
  },
  {
   "cell_type": "code",
   "execution_count": 4,
   "metadata": {},
   "outputs": [],
   "source": [
    "def s(t, m, g, k, Vo):\n",
    "    return ((m*g*t)/k) - (m/k) * np.exp(-(k*t)/m) * (Vo - (m*g)/k) + (m/k) * (Vo - (m*g)/k)"
   ]
  },
  {
   "cell_type": "markdown",
   "metadata": {},
   "source": [
    "Esta función calcula la posición s en un tiempo t dado, utilizando la ecuación dada. Los parámetros son: t (tiempo), m (masa), g (gravedad), k (constante) y Vo (velocidad inicial)."
   ]
  },
  {
   "cell_type": "code",
   "execution_count": 5,
   "metadata": {},
   "outputs": [],
   "source": [
    "def calcular_tiempo_90_porciento(m, g, k, Vo):\n",
    "    return -(m * np.log((-0.1 * m * g) / (k * Vo - g * m))) / k"
   ]
  },
  {
   "cell_type": "markdown",
   "metadata": {},
   "source": [
    "Esta función calcula el tiempo cuando la posición alcanza el 90% del valor máximo. Utiliza la inversa de la ecuación de la función s(t, m, g, k, Vo) para encontrar este tiempo."
   ]
  },
  {
   "cell_type": "markdown",
   "metadata": {},
   "source": [
    "## Función main() ##"
   ]
  },
  {
   "cell_type": "code",
   "execution_count": null,
   "metadata": {},
   "outputs": [],
   "source": [
    "def main():"
   ]
  },
  {
   "cell_type": "markdown",
   "metadata": {},
   "source": [
    "Esta función es donde se ejecuta el programa principal.\n",
    "\n"
   ]
  },
  {
   "cell_type": "markdown",
   "metadata": {},
   "source": [
    "## Solicitud de parámetros ##"
   ]
  },
  {
   "cell_type": "code",
   "execution_count": null,
   "metadata": {},
   "outputs": [],
   "source": [
    "try:\n",
    "        # Solicitar al usuario que ingrese los valores\n",
    "        m = float(input(\"Ingresa la masa (kg): \"))\n",
    "        g = float(input(\"Ingresa el valor de la gravedad (m/s^2): \"))\n",
    "        k = float(input(\"Ingresa el valor de la constante de resistencia del aire (Ns/m): \"))\n",
    "        Vo = float(input(\"Ingresa la velocidad inicial (m/s): \"))\n",
    "    except ValueError:\n",
    "        print(\"Error: Ingrese valores numéricos para la masa, la gravedad, la constante y la velocidad inicial.\")\n",
    "        return"
   ]
  },
  {
   "cell_type": "markdown",
   "metadata": {},
   "source": [
    "Estos bloques de código solicitan al usuario que ingrese los valores de la masa, la gravedad, la constante de resistencia del aire y la velocidad inicial. Aparte que esta parte del código maneja excepciones cuando el usuario ingresa valores no numéricos para la masa, la gravedad, la constante de resistencia o la velocidad inicial."
   ]
  },
  {
   "cell_type": "markdown",
   "metadata": {},
   "source": [
    "## Verificación de valores positivos ##"
   ]
  },
  {
   "cell_type": "code",
   "execution_count": null,
   "metadata": {},
   "outputs": [],
   "source": [
    "if m <= 0 or k <= 0:\n",
    "        print(\"Error: La masa y la constante deben ser valores positivos.\")\n",
    "        return"
   ]
  },
  {
   "cell_type": "markdown",
   "metadata": {},
   "source": [
    "Esta parte del código verifica si la masa m y la constante de resistencia del aire k son valores positivos. Si no lo son, se muestra un mensaje de error y se termina la ejecución del programa."
   ]
  },
  {
   "cell_type": "markdown",
   "metadata": {},
   "source": [
    "## Creación de array de valores de tiempo ##"
   ]
  },
  {
   "cell_type": "code",
   "execution_count": null,
   "metadata": {},
   "outputs": [],
   "source": [
    "# Crear un array de valores de tiempo\n",
    "    t_evaluar = np.linspace(0, 30, 500)  # Se graficará desde t=0 hasta t=30"
   ]
  },
  {
   "cell_type": "markdown",
   "metadata": {},
   "source": [
    "Se crea un array de 500 valores de tiempo entre 0 y 30 segundos.\n",
    "\n"
   ]
  },
  {
   "cell_type": "markdown",
   "metadata": {},
   "source": [
    "## Cálculo de los valores de posición ##"
   ]
  },
  {
   "cell_type": "code",
   "execution_count": null,
   "metadata": {},
   "outputs": [],
   "source": [
    "# Calcular los valores de s(t) para cada valor de tiempo\n",
    "    s_evaluar = s(t_evaluar, m, g, k, Vo)"
   ]
  },
  {
   "cell_type": "markdown",
   "metadata": {},
   "source": [
    "Se calculan los valores de posición utilizando la función s() para cada valor de tiempo en el array valores_tiempo."
   ]
  },
  {
   "cell_type": "markdown",
   "metadata": {},
   "source": [
    "## Gráfica de posición en función del tiempo ##"
   ]
  },
  {
   "cell_type": "code",
   "execution_count": null,
   "metadata": {},
   "outputs": [],
   "source": [
    "# Graficar s(t)\n",
    "    plt.plot(t_evaluar, s_evaluar)\n",
    "    plt.title('Gráfico de s(t)')\n",
    "    plt.xlabel('Tiempo (s)')\n",
    "    plt.ylabel('s(t)')\n",
    "    plt.grid(True)"
   ]
  },
  {
   "cell_type": "markdown",
   "metadata": {},
   "source": [
    "Se grafica la posición en función del tiempo utilizando valores_tiempo en el eje x y valores_v en el eje y."
   ]
  },
  {
   "cell_type": "markdown",
   "metadata": {},
   "source": [
    "## Búsqueda del tiempo cuando la velocidad alcanza el 90% del valor máximo ##"
   ]
  },
  {
   "cell_type": "code",
   "execution_count": null,
   "metadata": {},
   "outputs": [],
   "source": [
    "# Encontrar el tiempo cuando la posición alcanza el 90% del valor máximo\n",
    "    t_90_porciento = calcular_tiempo_90_porciento(m, g, k, Vo)"
   ]
  },
  {
   "cell_type": "markdown",
   "metadata": {},
   "source": [
    "Se ingresan los parámetros en la función para calcular el tiempo."
   ]
  },
  {
   "cell_type": "markdown",
   "metadata": {},
   "source": [
    "## Se calcula la posición en el tiempo encontrado ##"
   ]
  },
  {
   "cell_type": "code",
   "execution_count": null,
   "metadata": {},
   "outputs": [],
   "source": [
    "# Calcular el valor de s(t) en t_90_porciento\n",
    "    s_90_porciento = s(t_90_porciento, m, g, k, Vo)"
   ]
  },
  {
   "cell_type": "markdown",
   "metadata": {},
   "source": [
    "Donde se sustituyen los parámetros que el usuario ingrese aparte del tiempo encontrado."
   ]
  },
  {
   "cell_type": "markdown",
   "metadata": {},
   "source": [
    "## Agregar líneas y punto en la gráfica ##"
   ]
  },
  {
   "cell_type": "code",
   "execution_count": null,
   "metadata": {},
   "outputs": [],
   "source": [
    "# Agregar una línea vertical en el tiempo t_90_percent\n",
    "plt.axvline(x=t_90_porciento, color='r', linestyle='--', label=f'Tiempo al 90% de s_max: {t_90_porciento:.2f} s')\n",
    "    \n",
    "# Agregar una línea horizontal en el valor de s_max * 0.9\n",
    "plt.axhline(y=s_90_porciento, color='g', linestyle='--', label=f'90% de s_max: {s_90_porciento:.2f} m')\n",
    "    \n",
    "# Agregar un punto en el gráfico en (t_90_percent, 0.9 * s_max)\n",
    "plt.plot(t_90_porciento, s_90_porciento, 'bo', label=f'Punto en 90% de s_max')"
   ]
  },
  {
   "cell_type": "markdown",
   "metadata": {},
   "source": [
    "Se agregan una línea vertical en el tiempo cuando la velocidad alcanza el 90% del valor máximo, una línea horizontal en el 90% del valor máximo y un punto en la gráfica en el punto correspondiente."
   ]
  },
  {
   "cell_type": "markdown",
   "metadata": {},
   "source": [
    "## Mostrar la leyenda y la gráfica ##"
   ]
  },
  {
   "cell_type": "code",
   "execution_count": null,
   "metadata": {},
   "outputs": [],
   "source": [
    "plt.legend()\n",
    "plt.show()"
   ]
  },
  {
   "cell_type": "markdown",
   "metadata": {},
   "source": [
    "Se muestra la leyenda de la gráfica y se muestra la gráfica en sí misma.\n",
    "\n"
   ]
  },
  {
   "cell_type": "markdown",
   "metadata": {},
   "source": [
    "## Ejecutar main ##"
   ]
  },
  {
   "cell_type": "code",
   "execution_count": null,
   "metadata": {},
   "outputs": [],
   "source": [
    "if __name__ == \"__main__\":\n",
    "    main()\n"
   ]
  },
  {
   "cell_type": "markdown",
   "metadata": {},
   "source": [
    "El bloque if __name__ == \"__main__\": es una estructura común en los scripts de Python. Sirve para determinar si el script se está ejecutando como un programa principal o si se está importando como un módulo en otro script."
   ]
  },
  {
   "cell_type": "markdown",
   "metadata": {},
   "source": [
    "# Código completo #"
   ]
  },
  {
   "cell_type": "code",
   "execution_count": 8,
   "metadata": {},
   "outputs": [
    {
     "data": {
      "image/png": "[encoded data removed]",
      "text/plain": [
       "<Figure size 640x480 with 1 Axes>"
      ]
     },
     "metadata": {},
     "output_type": "display_data"
    }
   ],
   "source": [
    "import numpy as np\n",
    "import matplotlib.pyplot as plt\n",
    "\n",
    "def s(t, m, g, k, Vo):\n",
    "    return ((m*g*t)/k) - (m/k) * np.exp(-(k*t)/m) * (Vo - (m*g)/k) + (m/k) * (Vo - (m*g)/k)\n",
    "\n",
    "def calcular_tiempo_90_porciento(m, g, k, Vo):\n",
    "    return -(m * np.log((-0.1 * m * g) / (k * Vo - g * m))) / k\n",
    "\n",
    "def main():\n",
    "    try:\n",
    "        # Solicitar al usuario que ingrese los valores\n",
    "        m = float(input(\"Ingresa la masa (kg): \"))\n",
    "        g = float(input(\"Ingresa el valor de la gravedad (m/s^2): \"))\n",
    "        k = float(input(\"Ingresa el valor de la constante de resistencia del aire (Ns/m): \"))\n",
    "        Vo = float(input(\"Ingresa la velocidad inicial (m/s): \"))\n",
    "    except ValueError:\n",
    "        print(\"Error: Ingrese valores numéricos para la masa, la gravedad, la constante y la velocidad inicial.\")\n",
    "        return\n",
    "    \n",
    "    if m <= 0 or k <= 0:\n",
    "        print(\"Error: La masa y la constante deben ser valores positivos.\")\n",
    "        return\n",
    "\n",
    "    # Crear un array de valores de tiempo\n",
    "    t_evaluar = np.linspace(0, 30, 500)  # Se graficará desde t=0 hasta t=30\n",
    "    \n",
    "    # Calcular los valores de s(t) para cada valor de tiempo\n",
    "    s_evaluar = s(t_evaluar, m, g, k, Vo)\n",
    "    \n",
    "    # Graficar s(t)\n",
    "    plt.plot(t_evaluar, s_evaluar)\n",
    "    plt.title('Gráfico de s(t)')\n",
    "    plt.xlabel('Tiempo (s)')\n",
    "    plt.ylabel('s(t)')\n",
    "    plt.grid(True)\n",
    "    \n",
    "    # Encontrar el tiempo cuando la posición alcanza el 90% del valor máximo\n",
    "    t_90_porciento = calcular_tiempo_90_porciento(m, g, k, Vo)\n",
    "    \n",
    "    # Calcular el valor de s(t) en t_90_porciento\n",
    "    s_90_porciento = s(t_90_porciento, m, g, k, Vo)\n",
    "    \n",
    "    # Agregar una línea vertical en el tiempo t_90_percent\n",
    "    plt.axvline(x=t_90_porciento, color='r', linestyle='--', label=f'Tiempo al 90% de s_max: {t_90_porciento:.2f} s')\n",
    "    \n",
    "    # Agregar una línea horizontal en el valor de s_max * 0.9\n",
    "    plt.axhline(y=s_90_porciento, color='g', linestyle='--', label=f'90% de s_max: {s_90_porciento:.2f} m')\n",
    "    \n",
    "    # Agregar un punto en el gráfico en (t_90_percent, 0.9 * s_max)\n",
    "    plt.plot(t_90_porciento, s_90_porciento, 'bo', label=f'Punto en 90% de s_max')\n",
    "    \n",
    "    plt.legend()\n",
    "    plt.show()\n",
    "\n",
    "if __name__ == \"__main__\":\n",
    "    main()\n"
   ]
  }
 ],
 "metadata": {
  "kernelspec": {
   "display_name": "Python 3",
   "language": "python",
   "name": "python3"
  },
  "language_info": {
   "codemirror_mode": {
    "name": "ipython",
    "version": 3
   },
   "file_extension": ".py",
   "mimetype": "text/x-python",
   "name": "python",
   "nbconvert_exporter": "python",
   "pygments_lexer": "ipython3",
   "version": "3.12.2"
  }
 },
 "nbformat": 4,
 "nbformat_minor": 2
}
