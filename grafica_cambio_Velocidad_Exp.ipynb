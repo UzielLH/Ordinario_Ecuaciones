{
 "cells": [
  {
   "cell_type": "markdown",
   "metadata": {},
   "source": [
    "# GRÁFICO DE CAMBIO DE VELOCIDAD #"
   ]
  },
  {
   "cell_type": "markdown",
   "metadata": {},
   "source": [
    "Retomando los resultados obtenidos del ejercicio 38 del paracaidismo, se procederá a graficar los cambios de velocidad que hay, aparte de marcar los puntos importantes en la gráfica"
   ]
  },
  {
   "cell_type": "markdown",
   "metadata": {},
   "source": [
    "## Importación de bibliotecas ##"
   ]
  },
  {
   "cell_type": "code",
   "execution_count": null,
   "metadata": {},
   "outputs": [],
   "source": [
    "import numpy as np\n",
    "import matplotlib.pyplot as plt"
   ]
  },
  {
   "cell_type": "markdown",
   "metadata": {},
   "source": [
    "numpy: Se utiliza para operaciones matemáticas y manejo de arrays.\n",
    "\n",
    "matplotlib.pyplot: Se utiliza para crear gráficos."
   ]
  },
  {
   "cell_type": "markdown",
   "metadata": {},
   "source": [
    "## Definición de la Función v ##"
   ]
  },
  {
   "cell_type": "code",
   "execution_count": null,
   "metadata": {},
   "outputs": [],
   "source": [
    "def v(t, m, g, k, Vo):\n",
    "    return (m * g / k) + (Vo - (m * g / k)) * np.exp(-k * t / m)"
   ]
  },
  {
   "cell_type": "markdown",
   "metadata": {},
   "source": [
    "Esta función calcula la velocidad v en función del tiempo t, masa m, gravedad g, constante de resistencia k y velocidad inicial Vo.\n",
    "Utiliza la fórmula de la velocidad para un objeto en caída con resistencia del aire."
   ]
  },
  {
   "cell_type": "markdown",
   "metadata": {},
   "source": [
    "## Función Principal main ##"
   ]
  },
  {
   "cell_type": "code",
   "execution_count": null,
   "metadata": {},
   "outputs": [],
   "source": [
    "def main():\n",
    "    # Valores iniciales\n",
    "    m = 72.41\n",
    "    g = 9.8\n",
    "    k1 = 0.5\n",
    "    k2 = 10\n",
    "    Vo = 0"
   ]
  },
  {
   "cell_type": "markdown",
   "metadata": {},
   "source": [
    "Aquí se definen los valores iniciales de masa (m), gravedad (g), constantes de resistencia (k1 y k2), y velocidad inicial (Vo)."
   ]
  },
  {
   "cell_type": "markdown",
   "metadata": {},
   "source": [
    "## Cálculo de Velocidades y Tiempos ##"
   ]
  },
  {
   "cell_type": "code",
   "execution_count": null,
   "metadata": {},
   "outputs": [],
   "source": [
    "# Crear un array de valores de tiempo para la primera parte (0 a 15s)\n",
    "    tiempo_1 = np.linspace(0, 15, 250)\n",
    "    # Calcular los valores de v(t) para cada valor de tiempo con k1\n",
    "    velocidad_1 = v(tiempo_1, m, g, k1, Vo)\n",
    "    \n",
    "    # Valor de velocidad al final de la primera parte\n",
    "    v_final_1 = velocidad_1[-1]"
   ]
  },
  {
   "cell_type": "markdown",
   "metadata": {},
   "source": [
    "np.linspace(0, 15, 250): Crea un array de 250 puntos uniformemente distribuidos entre 0 y 15 segundos.\n",
    "\n",
    "v(tiempo_1, m, g, k1, Vo): Calcula la velocidad para cada uno de esos tiempos con la constante de resistencia k1.\n",
    "\n",
    "v_final_1: Guarda la velocidad final al tiempo t = 15 segundos."
   ]
  },
  {
   "cell_type": "markdown",
   "metadata": {},
   "source": [
    "## Segunda Parte (15 a 60 segundos) ##"
   ]
  },
  {
   "cell_type": "code",
   "execution_count": null,
   "metadata": {},
   "outputs": [],
   "source": [
    "# Crear un array de valores de tiempo para la segunda parte (15 a 60s)\n",
    "    tiempo_2 = np.linspace(15, 60, 750)\n",
    "    # Calcular los valores de v(t) para cada valor de tiempo con k2, comenzando desde v_final_1\n",
    "    velocidad_2 = v(tiempo_2 - 15, m, g, k2, v_final_1)"
   ]
  },
  {
   "cell_type": "markdown",
   "metadata": {},
   "source": [
    "np.linspace(15, 60, 750): Crea un array de 750 puntos uniformemente distribuidos entre 15 y 60 segundos.\n",
    "\n",
    "v(tiempo_2 - 15, m, g, k2, v_final_1): Calcula la velocidad para cada uno de esos tiempos con la constante de resistencia k2, empezando desde v_final_1."
   ]
  },
  {
   "cell_type": "markdown",
   "metadata": {},
   "source": [
    "## Unión de las Dos Partes ##"
   ]
  },
  {
   "cell_type": "code",
   "execution_count": null,
   "metadata": {},
   "outputs": [],
   "source": [
    "# Unir las dos partes\n",
    "    tiempo_total = np.concatenate((tiempo_1, tiempo_2))\n",
    "    velocidad_total = np.concatenate((velocidad_1, velocidad_2))"
   ]
  },
  {
   "cell_type": "markdown",
   "metadata": {},
   "source": [
    "np.concatenate: Une los arrays de tiempo y velocidad de las dos partes en un solo array.\n"
   ]
  },
  {
   "cell_type": "markdown",
   "metadata": {},
   "source": [
    "## Graficar la Velocidad en Función del Tiempo ##"
   ]
  },
  {
   "cell_type": "code",
   "execution_count": null,
   "metadata": {},
   "outputs": [],
   "source": [
    "# Graficar v(t)\n",
    "    plt.plot(tiempo_total, velocidad_total, label='v(t)')\n",
    "    plt.title('Gráfico de v(t) del paracaidismo')\n",
    "    plt.xlabel('Tiempo (s)')\n",
    "    plt.ylabel('v(t)')\n",
    "    plt.grid(True)"
   ]
  },
  {
   "cell_type": "markdown",
   "metadata": {},
   "source": [
    "plt.plot: Dibuja la gráfica de velocidad en función del tiempo.\n",
    "\n",
    "plt.title, plt.xlabel, plt.ylabel: Añaden título y etiquetas a los ejes.\n",
    "\n",
    "plt.grid(True): Añade una cuadrícula al gráfico."
   ]
  },
  {
   "cell_type": "markdown",
   "metadata": {},
   "source": [
    "## Líneas y Puntos en t = 15s ##"
   ]
  },
  {
   "cell_type": "code",
   "execution_count": null,
   "metadata": {},
   "outputs": [],
   "source": [
    "# Agregar una línea vertical y horizontal en t=15s para indicar el cambio en la constante k\n",
    "    plt.axvline(x=15, color='r', linestyle='--', label=f'Tiempo: 15s, v: {v_final_1:.2f} m/s')\n",
    "    plt.axhline(y=v_final_1, color='r', linestyle='--')\n",
    "    # Agregar un punto en la intersección de t=15s\n",
    "    plt.plot(15, v_final_1, 'ro')"
   ]
  },
  {
   "cell_type": "markdown",
   "metadata": {},
   "source": [
    "plt.axvline: Dibuja una línea vertical en t = 15 segundos.\n",
    "\n",
    "plt.axhline: Dibuja una línea horizontal en la velocidad v_final_1.\n",
    "\n",
    "plt.plot(15, v_final_1, 'ro'): Añade un punto rojo en la intersección de las líneas."
   ]
  },
  {
   "cell_type": "markdown",
   "metadata": {},
   "source": [
    "## Líneas y Puntos en t = 20s ##"
   ]
  },
  {
   "cell_type": "code",
   "execution_count": null,
   "metadata": {},
   "outputs": [],
   "source": [
    "# Calcular la velocidad en t=20s\n",
    "    tiempo_20 = 20\n",
    "    v_20 = v(tiempo_20 - 15, m, g, k2, v_final_1)\n",
    "    \n",
    "# Agregar una línea vertical y horizontal en t=20s\n",
    "    plt.axvline(x=tiempo_20, color='b', linestyle='--', label=f'Tiempo: 20s, v: {v_20:.2f} m/s')\n",
    "    plt.axhline(y=v_20, color='b', linestyle='--')\n",
    "# Agregar un punto en la intersección de t=20s\n",
    "    plt.plot(tiempo_20, v_20, 'bo')"
   ]
  },
  {
   "cell_type": "markdown",
   "metadata": {},
   "source": [
    "v(tiempo_20 - 15, m, g, k2, v_final_1): Calcula la velocidad en t = 20 segundos.\n",
    "\n",
    "plt.axvline, plt.axhline: Dibuja líneas verticales y horizontales en t = 20 segundos y en la velocidad correspondiente.\n",
    "\n",
    "plt.plot(tiempo_20, v_20, 'bo'): Añade un punto azul en la intersección de las líneas.\n"
   ]
  },
  {
   "cell_type": "markdown",
   "metadata": {},
   "source": [
    "## Líneas y Puntos en t = 57.35s ##"
   ]
  },
  {
   "cell_type": "code",
   "execution_count": null,
   "metadata": {},
   "outputs": [],
   "source": [
    "# Calcular la velocidad en t=57.355s\n",
    "    tiempo_57_35 = 57.35\n",
    "    if tiempo_57_35 <= 15:\n",
    "        v_57_35 = v(tiempo_57_35, m, g, k1, Vo)\n",
    "    else:\n",
    "        v_57_35 = v(tiempo_57_35 - 15, m, g, k2, v_final_1)\n",
    "    \n",
    "    # Agregar una línea vertical y horizontal en t=57.35s\n",
    "    plt.axvline(x=tiempo_57_35, color='g', linestyle='--', label=f'Tiempo: {tiempo_57_35}s, v: {v_57_35:.2f} m/s')\n",
    "    plt.axhline(y=v_57_35, color='g', linestyle='--')\n",
    "    # Agregar un punto en la intersección de t=57.35s\n",
    "    plt.plot(tiempo_57_35, v_57_35, 'go')"
   ]
  },
  {
   "cell_type": "markdown",
   "metadata": {},
   "source": [
    "v(tiempo_57_35 - 15, m, g, k2, v_final_1): Calcula la velocidad en t = 57.35 segundos.\n",
    "\n",
    "plt.axvline, plt.axhline: Dibuja líneas verticales y horizontales en t = 57.35 segundos y en la velocidad correspondiente.\n",
    "\n",
    "plt.plot(tiempo_57_35, v_57_35, 'go'): Añade un punto verde en la intersección de las líneas."
   ]
  },
  {
   "cell_type": "markdown",
   "metadata": {},
   "source": [
    "## Mostrar la Gráfica ##"
   ]
  },
  {
   "cell_type": "code",
   "execution_count": null,
   "metadata": {},
   "outputs": [],
   "source": [
    "    plt.legend()\n",
    "    plt.show()"
   ]
  },
  {
   "cell_type": "markdown",
   "metadata": {},
   "source": [
    "plt.legend(): Muestra la leyenda en la gráfica.\n",
    "\n",
    "plt.show(): Muestra la gráfica."
   ]
  },
  {
   "cell_type": "markdown",
   "metadata": {},
   "source": [
    "## Ejecutar la Función Principal ##"
   ]
  },
  {
   "cell_type": "code",
   "execution_count": null,
   "metadata": {},
   "outputs": [],
   "source": [
    "if __name__ == \"__main__\":\n",
    "    main()"
   ]
  },
  {
   "cell_type": "markdown",
   "metadata": {},
   "source": [
    "Ejecuta la función main si el script se está ejecutando directamente.\n"
   ]
  },
  {
   "cell_type": "markdown",
   "metadata": {},
   "source": [
    "## Código Completo ##"
   ]
  },
  {
   "cell_type": "code",
   "execution_count": 1,
   "metadata": {},
   "outputs": [
    {
     "data": {
      "image/png": "[encoded data removed]",
      "text/plain": [
       "<Figure size 640x480 with 1 Axes>"
      ]
     },
     "metadata": {},
     "output_type": "display_data"
    }
   ],
   "source": [
    "import numpy as np\n",
    "import matplotlib.pyplot as plt\n",
    "\n",
    "def v(t, m, g, k, Vo):\n",
    "    return (m * g / k) + (Vo - (m * g / k)) * np.exp(-k * t / m)\n",
    "\n",
    "def main():\n",
    "    # Valores iniciales\n",
    "    m = 72.41\n",
    "    g = 9.8\n",
    "    k1 = 0.5\n",
    "    k2 = 10\n",
    "    Vo = 0\n",
    "    \n",
    "    # Crear un array de valores de tiempo para la primera parte (0 a 15s)\n",
    "    tiempo_1 = np.linspace(0, 15, 250)\n",
    "    # Calcular los valores de v(t) para cada valor de tiempo con k1\n",
    "    velocidad_1 = v(tiempo_1, m, g, k1, Vo)\n",
    "    \n",
    "    # Valor de velocidad al final de la primera parte\n",
    "    v_final_1 = velocidad_1[-1]\n",
    "    \n",
    "    # Crear un array de valores de tiempo para la segunda parte (15 a 60s)\n",
    "    tiempo_2 = np.linspace(15, 60, 750)\n",
    "    # Calcular los valores de v(t) para cada valor de tiempo con k2, comenzando desde v_final_1\n",
    "    velocidad_2 = v(tiempo_2 - 15, m, g, k2, v_final_1)\n",
    "    \n",
    "    # Unir las dos partes\n",
    "    tiempo_total = np.concatenate((tiempo_1, tiempo_2))\n",
    "    velocidad_total = np.concatenate((velocidad_1, velocidad_2))\n",
    "    \n",
    "    # Graficar v(t)\n",
    "    plt.plot(tiempo_total, velocidad_total, label='v(t)')\n",
    "    plt.title('Gráfico de v(t) del paracaidismo')\n",
    "    plt.xlabel('Tiempo (s)')\n",
    "    plt.ylabel('v(t)')\n",
    "    plt.grid(True)\n",
    "    \n",
    "    # Agregar una línea vertical y horizontal en t=15s para indicar el cambio en la constante k\n",
    "    plt.axvline(x=15, color='r', linestyle='--', label=f'Tiempo: 15s, v: {v_final_1:.2f} m/s')\n",
    "    plt.axhline(y=v_final_1, color='r', linestyle='--')\n",
    "    # Agregar un punto en la intersección de t=15s\n",
    "    plt.plot(15, v_final_1, 'ro')\n",
    "    \n",
    "    # Calcular la velocidad en t=20s\n",
    "    tiempo_20 = 20\n",
    "    v_20 = v(tiempo_20 - 15, m, g, k2, v_final_1)\n",
    "    \n",
    "    # Agregar una línea vertical y horizontal en t=20s\n",
    "    plt.axvline(x=tiempo_20, color='b', linestyle='--', label=f'Tiempo: 20s, v: {v_20:.2f} m/s')\n",
    "    plt.axhline(y=v_20, color='b', linestyle='--')\n",
    "    # Agregar un punto en la intersección de t=20s\n",
    "    plt.plot(tiempo_20, v_20, 'bo')\n",
    "    \n",
    "    # Calcular la velocidad en t=57.35s\n",
    "    tiempo_57_35 = 57.35\n",
    "    if tiempo_57_35 <= 15:\n",
    "        v_57_35 = v(tiempo_57_35, m, g, k1, Vo)\n",
    "    else:\n",
    "        v_57_35 = v(tiempo_57_35 - 15, m, g, k2, v_final_1)\n",
    "    \n",
    "    # Agregar una línea vertical y horizontal en t=57.355s\n",
    "    plt.axvline(x=tiempo_57_35, color='g', linestyle='--', label=f'Tiempo: {tiempo_57_35}s, v: {v_57_35:.2f} m/s')\n",
    "    plt.axhline(y=v_57_35, color='g', linestyle='--')\n",
    "    # Agregar un punto en la intersección de t=57.355s\n",
    "    plt.plot(tiempo_57_35, v_57_35, 'go')\n",
    "    \n",
    "    plt.legend()\n",
    "    plt.show()\n",
    "\n",
    "if __name__ == \"__main__\":\n",
    "    main()\n"
   ]
  }
 ],
 "metadata": {
  "kernelspec": {
   "display_name": "Python 3",
   "language": "python",
   "name": "python3"
  },
  "language_info": {
   "codemirror_mode": {
    "name": "ipython",
    "version": 3
   },
   "file_extension": ".py",
   "mimetype": "text/x-python",
   "name": "python",
   "nbconvert_exporter": "python",
   "pygments_lexer": "ipython3",
   "version": "3.12.2"
  }
 },
 "nbformat": 4,
 "nbformat_minor": 2
}
