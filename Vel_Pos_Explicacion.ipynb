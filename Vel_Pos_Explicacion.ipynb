{
 "cells": [
  {
   "cell_type": "markdown",
   "metadata": {},
   "source": [
    "# GRÁFICA DE VELOCIDAD Y POSICIÓN RESPECTO A LA RESISTENCIA DEL AIRE #"
   ]
  },
  {
   "cell_type": "markdown",
   "metadata": {},
   "source": [
    "Este script de Python simula el movimiento de un objeto en caída libre con resistencia del aire y genera gráficos para visualizar su velocidad y posición a lo largo del tiempo. Utiliza las librerías numpy y matplotlib para realizar cálculos matemáticos y crear visualizaciones.\n",
    "\n",
    "El modelo considera un objeto con una masa m, una constante de gravedad g, una constante de resistencia del aire k, y una velocidad inicial Vo. Las funciones v(t, m, g, k, Vo) y s(t, m, g, k, Vo) representan la velocidad y la posición del objeto en función del tiempo, respectivamente.\n",
    "\n",
    "Además, el script incluye una función para calcular el tiempo en el que la posición del objeto alcanza el 90% de su valor máximo teórico. A partir de este tiempo, se determinan y se grafican los valores de velocidad y posición correspondientes.\n",
    "\n",
    "El programa solicita al usuario que ingrese los parámetros necesarios (masa, gravedad, constante de resistencia y velocidad inicial) y luego genera gráficos que ilustran cómo cambian la velocidad y la posición del objeto con el tiempo. También marca el punto en el tiempo donde la posición alcanza el 90% de su valor máximo, añadiendo líneas y anotaciones para destacar estos valores en los gráficos."
   ]
  },
  {
   "cell_type": "markdown",
   "metadata": {},
   "source": [
    "La ecuación de la velocidad es la siguiente:\n",
    "\n",
    "\n",
    "$$v(t)= \\frac{m}{k}g + (vo - \\frac{m}{k}g) e^{-\\frac{kt}{m}}\n",
    "$$\n",
    "\n",
    "\n",
    "Donde:\n",
    "- \\( v \\) es la velocidad,\n",
    "- \\( vo \\) es la velocidad inicial,\n",
    "- \\( t \\) es el tiempo,\n",
    "- \\( g \\) es la gravedad,\n",
    "- \\( k \\) es la constante de resistencia del aire, y\n",
    "- \\( m \\) es la masa del objeto."
   ]
  },
  {
   "cell_type": "markdown",
   "metadata": {},
   "source": [
    "La ecuación de la velocidad es la siguiente:\n",
    "\n",
    "\n",
    "$$s(t) = \\frac{m}{k} gt - \\frac{m}{k} e^{-\\frac{kt}{m}} (V_o - \\frac{mg}{k}) + \\frac{m}{k} (V_o - \\frac{mg}{k})\n",
    "\n",
    "$$\n",
    "\n",
    "\n",
    "Donde:\n",
    "- \\( v \\) es la velocidad,\n",
    "- \\( vo \\) es la velocidad inicial,\n",
    "- \\( t \\) es el tiempo,\n",
    "- \\( g \\) es la gravedad,\n",
    "- \\( k \\) es la constante de resistencia del aire, y\n",
    "- \\( m \\) es la masa del objeto."
   ]
  },
  {
   "cell_type": "markdown",
   "metadata": {},
   "source": [
    "Para poder calcular el tiempo para llegar al 90% de velocidad antes de la velocidad limitante se hace algunos despejes y quedaría de esta forma la ecuación:\n",
    "$$t=-\\frac{{m \\cdot \\ln \\left( \\frac{{-0.1 \\cdot m \\cdot g}}{{k \\cdot V_o - g \\cdot m}} \\right)}}{k}\n",
    "\n",
    "$$\n",
    "\n",
    "\n",
    "Donde:\n",
    "- \\( v \\) es la velocidad,\n",
    "- \\( vo \\) es la velocidad inicial,\n",
    "- \\( t \\) es el tiempo,\n",
    "- \\( g \\) es la gravedad,\n",
    "- \\( k \\) es la constante de resistencia del aire, y\n",
    "- \\( m \\) es la masa del objeto."
   ]
  },
  {
   "cell_type": "markdown",
   "metadata": {},
   "source": [
    "# Explicación del código #"
   ]
  },
  {
   "cell_type": "markdown",
   "metadata": {},
   "source": [
    "## Importación de librerías ##"
   ]
  },
  {
   "cell_type": "code",
   "execution_count": null,
   "metadata": {},
   "outputs": [],
   "source": [
    "import numpy as np\n",
    "import matplotlib.pyplot as plt"
   ]
  },
  {
   "cell_type": "markdown",
   "metadata": {},
   "source": [
    "numpy se importa con el alias np, proporciona soporte para arrays y matrices multidimensionales.\n",
    "\n",
    "matplotlib.pyplot se importa con el alias plt, es una colección de funciones que hacen que matplotlib funcione como MATLAB."
   ]
  },
  {
   "cell_type": "markdown",
   "metadata": {},
   "source": [
    "## Definición de las funciones ##"
   ]
  },
  {
   "cell_type": "code",
   "execution_count": null,
   "metadata": {},
   "outputs": [],
   "source": [
    "def v(t, m, g, k, Vo):\n",
    "    return (m*g/k) + (Vo - (m*g/k)) * np.exp(-k*t/m)"
   ]
  },
  {
   "cell_type": "markdown",
   "metadata": {},
   "source": [
    "Esta función calcula la velocidad en función del tiempo t utilizando los parámetros de entrada: la masa m, la aceleración debido a la gravedad g, la constante de resistencia del aire k y la velocidad inicial Vo. Utiliza la fórmula de la velocidad en movimiento vertical con resistencia del aire."
   ]
  },
  {
   "cell_type": "code",
   "execution_count": null,
   "metadata": {},
   "outputs": [],
   "source": [
    "def s(t, m, g, k, Vo):\n",
    "    return ((m*g*t)/k) - (m/k) * np.exp(-(k*t)/m) * (Vo - (m*g)/k) + (m/k) * (Vo - (m*g)/k)"
   ]
  },
  {
   "cell_type": "markdown",
   "metadata": {},
   "source": [
    "Esta función calcula la posición s en un tiempo t dado, utilizando la ecuación dada. Los parámetros son: t (tiempo), m (masa), g (gravedad), k (constante) y Vo (velocidad inicial)."
   ]
  },
  {
   "cell_type": "code",
   "execution_count": null,
   "metadata": {},
   "outputs": [],
   "source": [
    "def calcular_tiempo_90_porciento(m, g, k, Vo):\n",
    "    return -(m * np.log((-0.1 * m * g) / (k * Vo - g * m))) / k"
   ]
  },
  {
   "cell_type": "markdown",
   "metadata": {},
   "source": [
    "Define una función llamada calcular_tiempo_90_porciento que calcula el tiempo en el cual la velocidad del objeto alcanza el 90% de su valor máximo, utilizando los parámetros dados."
   ]
  },
  {
   "cell_type": "markdown",
   "metadata": {},
   "source": [
    "## Función main() ##"
   ]
  },
  {
   "cell_type": "code",
   "execution_count": null,
   "metadata": {},
   "outputs": [],
   "source": [
    "def main():"
   ]
  },
  {
   "cell_type": "markdown",
   "metadata": {},
   "source": [
    "Esta función es donde se ejecuta el programa principal.\n",
    "\n"
   ]
  },
  {
   "cell_type": "markdown",
   "metadata": {},
   "source": [
    "## Solicitud de parámetros ##"
   ]
  },
  {
   "cell_type": "code",
   "execution_count": null,
   "metadata": {},
   "outputs": [],
   "source": [
    "try:\n",
    "        # Solicitar al usuario que ingrese los valores\n",
    "        m = float(input(\"Ingresa la masa (kg): \"))\n",
    "        g = float(input(\"Ingresa el valor de la gravedad (m/s^2): \"))\n",
    "        k = float(input(\"Ingresa el valor de la constante de resistencia del aire (Ns/m): \"))\n",
    "        Vo = float(input(\"Ingresa la velocidad inicial (m/s): \"))\n",
    "    except ValueError:\n",
    "        print(\"Error: Ingrese valores numéricos para la masa, la gravedad, la constante y la velocidad inicial.\")\n",
    "        return"
   ]
  },
  {
   "cell_type": "markdown",
   "metadata": {},
   "source": [
    "Estos bloques de código solicitan al usuario que ingrese los valores de la masa, la gravedad, la constante de resistencia del aire y la velocidad inicial. Aparte que esta parte del código maneja excepciones cuando el usuario ingresa valores no numéricos para la masa, la gravedad, la constante de resistencia o la velocidad inicial."
   ]
  },
  {
   "cell_type": "markdown",
   "metadata": {},
   "source": [
    "## Verificación de valores positivos ##"
   ]
  },
  {
   "cell_type": "code",
   "execution_count": null,
   "metadata": {},
   "outputs": [],
   "source": [
    "if m <= 0 or k <= 0:\n",
    "        print(\"Error: La masa y la constante deben ser valores positivos.\")\n",
    "        return"
   ]
  },
  {
   "cell_type": "markdown",
   "metadata": {},
   "source": [
    "Esta parte del código verifica si la masa m y la constante de resistencia del aire k son valores positivos. Si no lo son, se muestra un mensaje de error y se termina la ejecución del programa."
   ]
  },
  {
   "cell_type": "markdown",
   "metadata": {},
   "source": [
    "## Creación de array de valores de tiempo ##"
   ]
  },
  {
   "cell_type": "code",
   "execution_count": null,
   "metadata": {},
   "outputs": [],
   "source": [
    "# Crear un array de valores de tiempo\n",
    "    t_evaluar = np.linspace(0, 20, 200)  # Se graficará desde t=0 hasta t=20"
   ]
  },
  {
   "cell_type": "markdown",
   "metadata": {},
   "source": [
    "Se crea un array de 200 valores de tiempo entre 0 y 20 segundos.\n",
    "\n"
   ]
  },
  {
   "cell_type": "markdown",
   "metadata": {},
   "source": [
    "## Cálculo de los valores de velocidad ##"
   ]
  },
  {
   "cell_type": "code",
   "execution_count": null,
   "metadata": {},
   "outputs": [],
   "source": [
    "# Calcular los valores de v(t) para cada valor de tiempo\n",
    "    v_evaluar = v(t_evaluar, m, g, k, Vo)"
   ]
  },
  {
   "cell_type": "markdown",
   "metadata": {},
   "source": [
    "Se calculan los valores de velocidad utilizando la función v() para cada valor de tiempo en el array valores_tiempo."
   ]
  },
  {
   "cell_type": "markdown",
   "metadata": {},
   "source": [
    "## Cálculo de los valores de posición ##"
   ]
  },
  {
   "cell_type": "code",
   "execution_count": null,
   "metadata": {},
   "outputs": [],
   "source": [
    "# Calcular los valores de s(t) para cada valor de tiempo\n",
    "    s_evaluar = s(t_evaluar, m, g, k, Vo)"
   ]
  },
  {
   "cell_type": "markdown",
   "metadata": {},
   "source": [
    "Se calculan los valores de posición utilizando la función s() para cada valor de tiempo en el array valores_tiempo."
   ]
  },
  {
   "cell_type": "markdown",
   "metadata": {},
   "source": [
    "## Búsqueda del tiempo cuando la velocidad alcanza el 90% del valor máximo ##"
   ]
  },
  {
   "cell_type": "code",
   "execution_count": null,
   "metadata": {},
   "outputs": [],
   "source": [
    "# Encontrar el tiempo cuando la posición alcanza el 90% del valor máximo\n",
    "    t_90_porciento = calcular_tiempo_90_porciento(m, g, k, Vo)"
   ]
  },
  {
   "cell_type": "markdown",
   "metadata": {},
   "source": [
    "Se ingresan los parámetros en la función para calcular el tiempo."
   ]
  },
  {
   "cell_type": "markdown",
   "metadata": {},
   "source": [
    "## Se calcula la velocidad y posición en el tiempo encontrado ##"
   ]
  },
  {
   "cell_type": "code",
   "execution_count": null,
   "metadata": {},
   "outputs": [],
   "source": [
    "# Calcular el valor de v(t) en t_90_porciento\n",
    "    v_90_porciento = v(t_90_porciento, m, g, k, Vo)\n",
    "    \n",
    "# Calcular el valor de s(t) en t_90_porciento\n",
    "    s_90_porciento = s(t_90_porciento, m, g, k, Vo)"
   ]
  },
  {
   "cell_type": "markdown",
   "metadata": {},
   "source": [
    "Donde se sustituyen los parámetros que el usuario ingrese aparte del tiempo encontrado."
   ]
  },
  {
   "cell_type": "markdown",
   "metadata": {},
   "source": [
    "## Creación de la figura y ejes para graficar ##"
   ]
  },
  {
   "cell_type": "code",
   "execution_count": null,
   "metadata": {},
   "outputs": [],
   "source": [
    "# Crear la figura y los ejes\n",
    "    fig, ax1 = plt.subplots()"
   ]
  },
  {
   "cell_type": "markdown",
   "metadata": {},
   "source": [
    "Crea una figura fig y un conjunto de ejes ax1 para el gráfico."
   ]
  },
  {
   "cell_type": "markdown",
   "metadata": {},
   "source": [
    "## Graficar velocidad v(t) ##"
   ]
  },
  {
   "cell_type": "code",
   "execution_count": null,
   "metadata": {},
   "outputs": [],
   "source": [
    "# Graficar v(t) en el primer eje y configurar su color\n",
    "    color = 'tab:blue'\n",
    "    ax1.set_xlabel('Tiempo (s)')\n",
    "    ax1.set_ylabel('v(t)', color=color)\n",
    "    ax1.plot(t_evaluar, v_evaluar, color=color, label='v(t)')\n",
    "    ax1.tick_params(axis='y', labelcolor=color)"
   ]
  },
  {
   "cell_type": "markdown",
   "metadata": {},
   "source": [
    "Configura el primer eje ax1 para graficar la velocidad v(t) en color azul, con etiquetas y parámetros correspondientes."
   ]
  },
  {
   "cell_type": "markdown",
   "metadata": {},
   "source": [
    "## Añadir líneas y puntos de referencia para v(t) ##"
   ]
  },
  {
   "cell_type": "code",
   "execution_count": null,
   "metadata": {},
   "outputs": [],
   "source": [
    "# Agregar una línea vertical en el tiempo t_90_percent para v(t)\n",
    "    ax1.axvline(x=t_90_porciento, color='r', linestyle='--', label=f'Tiempo al 90% de v_max: {t_90_porciento:.2f} s')\n",
    "    \n",
    "    # Agregar una línea horizontal en el valor de v_max * 0.9\n",
    "    ax1.axhline(y=v_90_porciento, color='g', linestyle='--', label=f'90% de v_max: {v_90_porciento:.2f} m/s')\n",
    "    \n",
    "    # Agregar un punto en el gráfico en (t_90_percent, 0.9 * v_max)\n",
    "    ax1.plot(t_90_porciento, v_90_porciento, 'bo', label=f'Punto en 90% de v_max')\n",
    "    \n",
    "    # Configurar la leyenda para el primer eje\n",
    "    ax1.legend(loc='upper left')"
   ]
  },
  {
   "cell_type": "markdown",
   "metadata": {},
   "source": [
    "Añade una línea vertical en t_90_porciento, una línea horizontal en v_90_porciento, y un punto en (t_90_porciento, v_90_porciento). Configura la leyenda del gráfico."
   ]
  },
  {
   "cell_type": "markdown",
   "metadata": {},
   "source": [
    "## Crear el segundo eje para graficar posición s(t) ##"
   ]
  },
  {
   "cell_type": "code",
   "execution_count": null,
   "metadata": {},
   "outputs": [],
   "source": [
    "# Crear el segundo eje compartiendo el eje x con el primer eje\n",
    "    ax2 = ax1.twinx()\n",
    "    \n",
    "    # Graficar s(t) en el segundo eje y configurar su color \n",
    "    color = 'tab:red'\n",
    "    ax2.set_ylabel('s(t)', color=color)\n",
    "    ax2.plot(t_evaluar, s_evaluar, color=color, label='s(t)')\n",
    "    ax2.tick_params(axis='y', labelcolor=color)"
   ]
  },
  {
   "cell_type": "markdown",
   "metadata": {},
   "source": [
    "Crea un segundo eje ax2 que comparte el eje x con ax1, y configura este eje para graficar la posición s(t) en color rojo."
   ]
  },
  {
   "cell_type": "markdown",
   "metadata": {},
   "source": [
    "## Añadir líneas y puntos de referencia para s(t) ##"
   ]
  },
  {
   "cell_type": "code",
   "execution_count": null,
   "metadata": {},
   "outputs": [],
   "source": [
    "# Agregar una línea vertical en el tiempo t_90_porciento para s(t)\n",
    "    ax2.axvline(x=t_90_porciento, color='r', linestyle='--', label=f'Tiempo al 90% de s_max: {t_90_porciento:.2f} s')\n",
    "    \n",
    "    # Agregar una línea horizontal en el s_90_porciento\n",
    "    ax2.axhline(y=s_90_porciento, color='g', linestyle='--', label=f'90% de s_max: {s_90_porciento:.2f} m')\n",
    "    \n",
    "    # Agregar un punto en el gráfico\n",
    "    ax2.plot(t_90_porciento, s_90_porciento, 'bo', label=f'Punto en 90% de s_max')\n",
    "    \n",
    "    # Configurar la leyenda para el segundo eje\n",
    "    ax2.legend(loc='upper right')"
   ]
  },
  {
   "cell_type": "markdown",
   "metadata": {},
   "source": [
    "Añade una línea vertical en t_90_porciento, una línea horizontal en s_90_porciento, y un punto en (t_90_porciento, s_90_porciento). Configura la leyenda del gráfico."
   ]
  },
  {
   "cell_type": "markdown",
   "metadata": {},
   "source": [
    "## Configuración adicional del gráfico ##"
   ]
  },
  {
   "cell_type": "code",
   "execution_count": null,
   "metadata": {},
   "outputs": [],
   "source": [
    "# Agregar una cuadrícula al gráfico\n",
    "    plt.grid(True)\n",
    "    \n",
    "    # Agregar un título explicativo al gráfico\n",
    "    plt.title('Gráfico de velocidad y posición respecto a la resistencia del aire')\n",
    "    \n",
    "    # Mover las etiquetas de las líneas fuera del gráfico\n",
    "    ax1.legend(loc='upper left', bbox_to_anchor=(0.0, 1.2), shadow=True, ncol=1)\n",
    "    ax2.legend(loc='upper right', bbox_to_anchor=(1.0, 1.2), shadow=True, ncol=1)\n",
    "    \n",
    "    # Mostrar la figura\n",
    "    fig.tight_layout()\n",
    "    plt.show()"
   ]
  },
  {
   "cell_type": "markdown",
   "metadata": {},
   "source": [
    "Añade una cuadrícula al gráfico, configura el título del gráfico, ajusta el diseño del gráfico para evitar solapamientos y finalmente muestra el gráfico."
   ]
  },
  {
   "cell_type": "markdown",
   "metadata": {},
   "source": [
    "## Ejecutar main ##"
   ]
  },
  {
   "cell_type": "code",
   "execution_count": null,
   "metadata": {},
   "outputs": [],
   "source": [
    "if __name__ == \"__main__\":\n",
    "    main()"
   ]
  },
  {
   "cell_type": "markdown",
   "metadata": {},
   "source": [
    "El bloque if __name__ == \"__main__\": es una estructura común en los scripts de Python. Sirve para determinar si el script se está ejecutando como un programa principal o si se está importando como un módulo en otro script."
   ]
  },
  {
   "cell_type": "markdown",
   "metadata": {},
   "source": [
    "## Código completo ##"
   ]
  },
  {
   "cell_type": "code",
   "execution_count": 1,
   "metadata": {},
   "outputs": [
    {
     "data": {
      "image/png": "[encoded data removed]",
      "text/plain": [
       "<Figure size 640x480 with 2 Axes>"
      ]
     },
     "metadata": {},
     "output_type": "display_data"
    }
   ],
   "source": [
    "import numpy as np\n",
    "import matplotlib.pyplot as plt\n",
    "\n",
    "def v(t, m, g, k, Vo):\n",
    "    return (m*g/k) + (Vo - (m*g/k)) * np.exp(-k*t/m)\n",
    "\n",
    "def s(t, m, g, k, Vo):\n",
    "    return ((m*g*t)/k) - (m/k) * np.exp(-(k*t)/m) * (Vo - (m*g)/k) + (m/k) * (Vo - (m*g)/k)\n",
    "\n",
    "def calcular_tiempo_90_porciento(m, g, k, Vo):\n",
    "    return -(m * np.log((-0.1 * m * g) / (k * Vo - g * m))) / k\n",
    "\n",
    "def main():\n",
    "    try:\n",
    "        # Solicitar al usuario que ingrese los valores\n",
    "        m = float(input(\"Ingresa la masa (kg): \"))\n",
    "        g = float(input(\"Ingresa el valor de la gravedad (m/s^2): \"))\n",
    "        k = float(input(\"Ingresa el valor de la constante de resistencia del aire (Ns/m): \"))\n",
    "        Vo = float(input(\"Ingresa la velocidad inicial (m/s): \"))\n",
    "    except ValueError:\n",
    "        print(\"Error: Ingrese valores numéricos para la masa, la gravedad, la constante y la velocidad inicial.\")\n",
    "        return\n",
    "    \n",
    "    if m <= 0 or k <= 0:\n",
    "        print(\"Error: La masa y la constante deben ser valores positivos.\")\n",
    "        return\n",
    "    \n",
    "    # Crear un array de valores de tiempo\n",
    "    t_evaluar = np.linspace(0, 20, 200)  # Se graficará desde t=0 hasta t=20\n",
    "    \n",
    "    # Calcular los valores de v(t) para cada valor de tiempo\n",
    "    v_evaluar = v(t_evaluar, m, g, k, Vo)\n",
    "    \n",
    "    # Calcular los valores de s(t) para cada valor de tiempo\n",
    "    s_evaluar = s(t_evaluar, m, g, k, Vo)\n",
    "    \n",
    "    # Encontrar el tiempo cuando la posición alcanza el 90% del valor máximo\n",
    "    t_90_porciento = calcular_tiempo_90_porciento(m, g, k, Vo)\n",
    "    \n",
    "    # Calcular el valor de v(t) en t_90_porciento\n",
    "    v_90_porciento = v(t_90_porciento, m, g, k, Vo)\n",
    "    \n",
    "    # Calcular el valor de s(t) en t_90_porciento\n",
    "    s_90_porciento = s(t_90_porciento, m, g, k, Vo)\n",
    "    \n",
    "    # Crear la figura y los ejes\n",
    "    fig, ax1 = plt.subplots()\n",
    "    \n",
    "    # Graficar v(t) en el primer eje y configurar su color\n",
    "    color = 'tab:blue'\n",
    "    ax1.set_xlabel('Tiempo (s)')\n",
    "    ax1.set_ylabel('v(t)', color=color)\n",
    "    ax1.plot(t_evaluar, v_evaluar, color=color, label='v(t)')\n",
    "    ax1.tick_params(axis='y', labelcolor=color)\n",
    "    \n",
    "    # Agregar una línea vertical en el tiempo t_90_percent para v(t)\n",
    "    ax1.axvline(x=t_90_porciento, color='r', linestyle='--', label=f'Tiempo al 90% de v_max: {t_90_porciento:.2f} s')\n",
    "    \n",
    "    # Agregar una línea horizontal en el valor de v_max * 0.9\n",
    "    ax1.axhline(y=v_90_porciento, color='g', linestyle='--', label=f'90% de v_max: {v_90_porciento:.2f} m/s')\n",
    "    \n",
    "    # Agregar un punto en el gráfico en (t_90_percent, 0.9 * v_max)\n",
    "    ax1.plot(t_90_porciento, v_90_porciento, 'bo', label=f'Punto en 90% de v_max')\n",
    "    \n",
    "    # Configurar la leyenda para el primer eje\n",
    "    ax1.legend(loc='upper left')\n",
    "    \n",
    "    # Crear el segundo eje compartiendo el eje x con el primer eje\n",
    "    ax2 = ax1.twinx()\n",
    "    \n",
    "    # Graficar s(t) en el segundo eje y configurar su color \n",
    "    color = 'tab:red'\n",
    "    ax2.set_ylabel('s(t)', color=color)\n",
    "    ax2.plot(t_evaluar, s_evaluar, color=color, label='s(t)')\n",
    "    ax2.tick_params(axis='y', labelcolor=color)\n",
    "    \n",
    "    \n",
    "    # Agregar una línea vertical en el tiempo t_90_porciento para s(t)\n",
    "    ax2.axvline(x=t_90_porciento, color='r', linestyle='--', label=f'Tiempo al 90% de s_max: {t_90_porciento:.2f} s')\n",
    "    \n",
    "    # Agregar una línea horizontal en el s_90_porciento\n",
    "    ax2.axhline(y=s_90_porciento, color='g', linestyle='--', label=f'90% de s_max: {s_90_porciento:.2f} m')\n",
    "    \n",
    "    # Agregar un punto en el gráfico\n",
    "    ax2.plot(t_90_porciento, s_90_porciento, 'bo', label=f'Punto en 90% de s_max')\n",
    "    \n",
    "    # Configurar la leyenda para el segundo eje\n",
    "    ax2.legend(loc='upper right')\n",
    "    \n",
    "    # Agregar una cuadrícula al gráfico\n",
    "    plt.grid(True)\n",
    "    \n",
    "    # Agregar un título explicativo al gráfico\n",
    "    plt.title('Gráfico de velocidad y posición respecto a la resistencia del aire')\n",
    "    \n",
    "    # Mover las etiquetas de las líneas fuera del gráfico\n",
    "    ax1.legend(loc='upper left', bbox_to_anchor=(0.0, 1.2), shadow=True, ncol=1)\n",
    "    ax2.legend(loc='upper right', bbox_to_anchor=(1.0, 1.2), shadow=True, ncol=1)\n",
    "    \n",
    "    # Mostrar la figura\n",
    "    fig.tight_layout()\n",
    "    plt.show()\n",
    "\n",
    "if __name__ == \"__main__\":\n",
    "    main()\n"
   ]
  }
 ],
 "metadata": {
  "kernelspec": {
   "display_name": "Python 3",
   "language": "python",
   "name": "python3"
  },
  "language_info": {
   "codemirror_mode": {
    "name": "ipython",
    "version": 3
   },
   "file_extension": ".py",
   "mimetype": "text/x-python",
   "name": "python",
   "nbconvert_exporter": "python",
   "pygments_lexer": "ipython3",
   "version": "3.12.2"
  }
 },
 "nbformat": 4,
 "nbformat_minor": 2
}
